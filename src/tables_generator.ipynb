{
 "cells": [
  {
   "cell_type": "code",
   "execution_count": 11,
   "metadata": {},
   "outputs": [],
   "source": [
    "from experimenter import *\n",
    "from utils import *\n",
    "import pandas as pd\n",
    "import numpy as np\n",
    "from itertools import product\n",
    "from tqdm import tqdm_notebook\n",
    "from tabulate import tabulate\n",
    "mcm = mixed_combinations_map\n",
    "if 'HDPa' in mcm['PA']:\n",
    "    mcm['PA'].remove('HDPa')"
   ]
  },
  {
   "cell_type": "code",
   "execution_count": 12,
   "metadata": {},
   "outputs": [],
   "source": [
    "def to_mean_std(dfs, _round=True):\n",
    "    if _round:\n",
    "        return pd.concat(dfs).reset_index().groupby('index').\\\n",
    "              agg(lambda x: '{} $\\\\pm$ {}'.format(\"%.1f\" % round(np.mean(x), 1),\n",
    "                                               \"%.1f\" % round(np.std(x), 1)))\n",
    "    else:\n",
    "        return pd.concat(dfs).reset_index().groupby('index').\\\n",
    "              agg(lambda x: '{} $\\\\pm$ {}'.format(\"%.1f\" % np.mean(x),\n",
    "                                               \"%.1f\" % np.std(x)))\n",
    "\n",
    "def get_overfit_score_df(train_df, test_df):\n",
    "    overfit_df = train_df.subtract(test_df)\n",
    "    overfit_df = overfit_df.div(train_df)\n",
    "    overfit_df = overfit_df.mul(100)\n",
    "    return overfit_df\n",
    "\n",
    "def get_data_split_name(d, s, mode='full'):\n",
    "    if mode == 'full':\n",
    "        return '{} ({})'.format(d, s)\n",
    "    if mode == 'abbr':\n",
    "        return '{} ({})'.format(get_data_abbr(d), s[0])\n",
    "    if mode == 'idx':\n",
    "        return '{} ({})'.format(get_data_idx(d), s[0])\n",
    "\n",
    "def get_latex_table(df, file_name = None, bold_best=None, col_mode = 'math', ascending = True):\n",
    "    if col_mode == 'math':\n",
    "        table_df = df.rename(columns = {c: '${}$'.format(c) for c in df.columns})\n",
    "    elif col_mode == 'sf':\n",
    "        table_df = df.rename(columns = {c: '\\\\textsf{{{}}}'.format(c) for c in df.columns})\n",
    "    elif col_mode == 'tt':\n",
    "        table_df = df.rename(columns = {c: '\\\\texttt{{{}}}'.format(c) for c in df.columns})\n",
    "    if bold_best == 'per_col':\n",
    "        pass\n",
    "    elif bold_best == 'per_row':\n",
    "        for i in table_df.index:\n",
    "            max_i = table_df.loc[i, :].max() if ascending else table_df.loc[i, :].min()\n",
    "            table_df.loc[i, :] = table_df.loc[i, :].apply(lambda x: '\\\\textbf{{{}}}'.format(x) if x == max_i else x)\n",
    "    return table_df.to_latex(file_name, escape=False, column_format = 'l'+'c'*df.shape[1])"
   ]
  },
  {
   "cell_type": "markdown",
   "metadata": {},
   "source": [
    "## (i) Data description\n",
    "data_description.tex"
   ]
  },
  {
   "cell_type": "code",
   "execution_count": 13,
   "metadata": {},
   "outputs": [],
   "source": [
    "# data_names = get_data_names()\n",
    "# headers = ['Name', 'Abbr', '|V|', '|F|']\n",
    "# data_names[]"
   ]
  },
  {
   "cell_type": "markdown",
   "metadata": {},
   "source": [
    "## (ii) All data, macro classifiers, AUC scores: 12 x 5\n",
    "macro_feat_perf_auc.tex"
   ]
  },
  {
   "cell_type": "code",
   "execution_count": 4,
   "metadata": {},
   "outputs": [],
   "source": [
    "def read_macro_feat_results(data_name, split_mode):\n",
    "    params = get_default_params()\n",
    "    params['data_params']['data_name'] = data_name\n",
    "    params['data_params']['split_mode'] = split_mode\n",
    "    params['data_params']['base_path'] = '/home2/e1-313-15477'\n",
    "    train_dfs, test_dfs, overfit_dfs = [], [], []\n",
    "    # i = 0\n",
    "    for i in range(5):\n",
    "        params['iter_var'] = i\n",
    "        cl_perfs = {}\n",
    "        interim_train_dfs = []\n",
    "        interim_test_dfs = []\n",
    "        G_feats = default_lp_cols\n",
    "        W_feats = ['w_{}'.format(c) for c in default_lp_cols]\n",
    "        H_feats = default_hyper_cols\n",
    "        col_map = {tuple(G_feats): 'macro-G', \n",
    "                   tuple(H_feats): 'macro-H',\n",
    "                   tuple(W_feats): 'macro-W',\n",
    "                   tuple(G_feats + H_feats): 'macro-GH',\n",
    "                   tuple(W_feats+H_feats): 'macro-WH'}\n",
    "        output = perform_GWH_classification(params, G_feats, W_feats, H_feats, 'xgboost')\n",
    "        lp_col = ''\n",
    "        train_df = pd.concat([output[k]['train_perf'].rename(columns = {'xgboost_train': k}).T for k in output]).T\n",
    "        test_df = pd.concat([output[k]['test_perf'].rename(columns = {'xgboost_test': k}).T for k in output]).T\n",
    "        train_df.rename(columns = col_map, inplace=True)\n",
    "        test_df.rename(columns = col_map, inplace=True)\n",
    "        overfit_df = get_overfit_score_df(train_df, test_df)\n",
    "\n",
    "        train_dfs.append(train_df)\n",
    "        test_dfs.append(test_df)\n",
    "        overfit_dfs.append(overfit_df)\n",
    "\n",
    "    train_df = to_mean_std(train_dfs)\n",
    "    test_df = to_mean_std(test_dfs)\n",
    "    overfit_df = to_mean_std(overfit_dfs)\n",
    "    return train_df, test_df, overfit_df"
   ]
  },
  {
   "cell_type": "code",
   "execution_count": 5,
   "metadata": {
    "collapsed": true
   },
   "outputs": [
    {
     "data": {
      "application/vnd.jupyter.widget-view+json": {
       "model_id": "7d2b47f460c14d86b89cc7dd1c8245ca",
       "version_major": 2,
       "version_minor": 0
      },
      "text/plain": [
       "HBox(children=(IntProgress(value=0, max=12), HTML(value='')))"
      ]
     },
     "metadata": {},
     "output_type": "display_data"
    },
    {
     "ename": "KeyboardInterrupt",
     "evalue": "",
     "output_type": "error",
     "traceback": [
      "\u001b[0;31m---------------------------------------------------------------------------\u001b[0m",
      "\u001b[0;31mKeyboardInterrupt\u001b[0m                         Traceback (most recent call last)",
      "\u001b[0;32m<ipython-input-5-8317ed695bd0>\u001b[0m in \u001b[0;36m<module>\u001b[0;34m\u001b[0m\n\u001b[1;32m      7\u001b[0m \u001b[0miterator\u001b[0m \u001b[0;34m=\u001b[0m \u001b[0mlist\u001b[0m\u001b[0;34m(\u001b[0m\u001b[0mproduct\u001b[0m\u001b[0;34m(\u001b[0m\u001b[0mdata_names\u001b[0m\u001b[0;34m,\u001b[0m \u001b[0msplit_modes\u001b[0m\u001b[0;34m)\u001b[0m\u001b[0;34m)\u001b[0m\u001b[0;34m\u001b[0m\u001b[0;34m\u001b[0m\u001b[0m\n\u001b[1;32m      8\u001b[0m \u001b[0;32mfor\u001b[0m \u001b[0md\u001b[0m\u001b[0;34m,\u001b[0m \u001b[0ms\u001b[0m \u001b[0;32min\u001b[0m \u001b[0mtqdm_notebook\u001b[0m\u001b[0;34m(\u001b[0m\u001b[0miterator\u001b[0m\u001b[0;34m)\u001b[0m\u001b[0;34m:\u001b[0m\u001b[0;34m\u001b[0m\u001b[0;34m\u001b[0m\u001b[0m\n\u001b[0;32m----> 9\u001b[0;31m     \u001b[0mtrain_df\u001b[0m\u001b[0;34m,\u001b[0m \u001b[0mtest_df\u001b[0m\u001b[0;34m,\u001b[0m \u001b[0moverfit_df\u001b[0m \u001b[0;34m=\u001b[0m \u001b[0mread_macro_feat_results\u001b[0m\u001b[0;34m(\u001b[0m\u001b[0md\u001b[0m\u001b[0;34m,\u001b[0m \u001b[0ms\u001b[0m\u001b[0;34m)\u001b[0m\u001b[0;34m\u001b[0m\u001b[0;34m\u001b[0m\u001b[0m\n\u001b[0m\u001b[1;32m     10\u001b[0m     \u001b[0mtrain_dfs\u001b[0m\u001b[0;34m[\u001b[0m\u001b[0;34m(\u001b[0m\u001b[0md\u001b[0m\u001b[0;34m,\u001b[0m \u001b[0ms\u001b[0m\u001b[0;34m)\u001b[0m\u001b[0;34m]\u001b[0m \u001b[0;34m=\u001b[0m \u001b[0mtrain_df\u001b[0m\u001b[0;34m\u001b[0m\u001b[0;34m\u001b[0m\u001b[0m\n\u001b[1;32m     11\u001b[0m     \u001b[0mtest_dfs\u001b[0m\u001b[0;34m[\u001b[0m\u001b[0;34m(\u001b[0m\u001b[0md\u001b[0m\u001b[0;34m,\u001b[0m \u001b[0ms\u001b[0m\u001b[0;34m)\u001b[0m\u001b[0;34m]\u001b[0m \u001b[0;34m=\u001b[0m \u001b[0mtest_df\u001b[0m\u001b[0;34m\u001b[0m\u001b[0;34m\u001b[0m\u001b[0m\n",
      "\u001b[0;32m<ipython-input-4-95f8acfd17ba>\u001b[0m in \u001b[0;36mread_macro_feat_results\u001b[0;34m(data_name, split_mode)\u001b[0m\n\u001b[1;32m     19\u001b[0m                    \u001b[0mtuple\u001b[0m\u001b[0;34m(\u001b[0m\u001b[0mG_feats\u001b[0m \u001b[0;34m+\u001b[0m \u001b[0mH_feats\u001b[0m\u001b[0;34m)\u001b[0m\u001b[0;34m:\u001b[0m \u001b[0;34m'macro-GH'\u001b[0m\u001b[0;34m,\u001b[0m\u001b[0;34m\u001b[0m\u001b[0;34m\u001b[0m\u001b[0m\n\u001b[1;32m     20\u001b[0m                    tuple(W_feats+H_feats): 'macro-WH'}\n\u001b[0;32m---> 21\u001b[0;31m         \u001b[0moutput\u001b[0m \u001b[0;34m=\u001b[0m \u001b[0mperform_GWH_classification\u001b[0m\u001b[0;34m(\u001b[0m\u001b[0mparams\u001b[0m\u001b[0;34m,\u001b[0m \u001b[0mG_feats\u001b[0m\u001b[0;34m,\u001b[0m \u001b[0mW_feats\u001b[0m\u001b[0;34m,\u001b[0m \u001b[0mH_feats\u001b[0m\u001b[0;34m,\u001b[0m \u001b[0;34m'xgboost'\u001b[0m\u001b[0;34m)\u001b[0m\u001b[0;34m\u001b[0m\u001b[0;34m\u001b[0m\u001b[0m\n\u001b[0m\u001b[1;32m     22\u001b[0m         \u001b[0mlp_col\u001b[0m \u001b[0;34m=\u001b[0m \u001b[0;34m''\u001b[0m\u001b[0;34m\u001b[0m\u001b[0;34m\u001b[0m\u001b[0m\n\u001b[1;32m     23\u001b[0m         \u001b[0mtrain_df\u001b[0m \u001b[0;34m=\u001b[0m \u001b[0mpd\u001b[0m\u001b[0;34m.\u001b[0m\u001b[0mconcat\u001b[0m\u001b[0;34m(\u001b[0m\u001b[0;34m[\u001b[0m\u001b[0moutput\u001b[0m\u001b[0;34m[\u001b[0m\u001b[0mk\u001b[0m\u001b[0;34m]\u001b[0m\u001b[0;34m[\u001b[0m\u001b[0;34m'train_perf'\u001b[0m\u001b[0;34m]\u001b[0m\u001b[0;34m.\u001b[0m\u001b[0mrename\u001b[0m\u001b[0;34m(\u001b[0m\u001b[0mcolumns\u001b[0m \u001b[0;34m=\u001b[0m \u001b[0;34m{\u001b[0m\u001b[0;34m'xgboost_train'\u001b[0m\u001b[0;34m:\u001b[0m \u001b[0mk\u001b[0m\u001b[0;34m}\u001b[0m\u001b[0;34m)\u001b[0m\u001b[0;34m.\u001b[0m\u001b[0mT\u001b[0m \u001b[0;32mfor\u001b[0m \u001b[0mk\u001b[0m \u001b[0;32min\u001b[0m \u001b[0moutput\u001b[0m\u001b[0;34m]\u001b[0m\u001b[0;34m)\u001b[0m\u001b[0;34m.\u001b[0m\u001b[0mT\u001b[0m\u001b[0;34m\u001b[0m\u001b[0;34m\u001b[0m\u001b[0m\n",
      "\u001b[0;32m~/repos/hynetworkx/src/experimenter.py\u001b[0m in \u001b[0;36mperform_GWH_classification\u001b[0;34m(params, G_feats, W_feats, H_feats, classifier)\u001b[0m\n\u001b[1;32m    324\u001b[0m                                    \u001b[0mparams\u001b[0m\u001b[0;34m[\u001b[0m\u001b[0;34m'lp_params'\u001b[0m\u001b[0;34m]\u001b[0m\u001b[0;34m,\u001b[0m\u001b[0;34m\u001b[0m\u001b[0;34m\u001b[0m\u001b[0m\n\u001b[1;32m    325\u001b[0m                                    \u001b[0mparams\u001b[0m\u001b[0;34m[\u001b[0m\u001b[0;34m'classifier_params'\u001b[0m\u001b[0;34m]\u001b[0m\u001b[0;34m,\u001b[0m\u001b[0;34m\u001b[0m\u001b[0;34m\u001b[0m\u001b[0m\n\u001b[0;32m--> 326\u001b[0;31m                                    params['iter_var'])\n\u001b[0m\u001b[1;32m    327\u001b[0m     \u001b[0;32mreturn\u001b[0m \u001b[0mclassifier_outputs\u001b[0m\u001b[0;34m\u001b[0m\u001b[0;34m\u001b[0m\u001b[0m\n\u001b[1;32m    328\u001b[0m \u001b[0;34m\u001b[0m\u001b[0m\n",
      "\u001b[0;32m/usr/local/lib/python3.6/dist-packages/joblib/memory.py\u001b[0m in \u001b[0;36m__call__\u001b[0;34m(self, *args, **kwargs)\u001b[0m\n\u001b[1;32m    566\u001b[0m \u001b[0;34m\u001b[0m\u001b[0m\n\u001b[1;32m    567\u001b[0m     \u001b[0;32mdef\u001b[0m \u001b[0m__call__\u001b[0m\u001b[0;34m(\u001b[0m\u001b[0mself\u001b[0m\u001b[0;34m,\u001b[0m \u001b[0;34m*\u001b[0m\u001b[0margs\u001b[0m\u001b[0;34m,\u001b[0m \u001b[0;34m**\u001b[0m\u001b[0mkwargs\u001b[0m\u001b[0;34m)\u001b[0m\u001b[0;34m:\u001b[0m\u001b[0;34m\u001b[0m\u001b[0;34m\u001b[0m\u001b[0m\n\u001b[0;32m--> 568\u001b[0;31m         \u001b[0;32mreturn\u001b[0m \u001b[0mself\u001b[0m\u001b[0;34m.\u001b[0m\u001b[0m_cached_call\u001b[0m\u001b[0;34m(\u001b[0m\u001b[0margs\u001b[0m\u001b[0;34m,\u001b[0m \u001b[0mkwargs\u001b[0m\u001b[0;34m)\u001b[0m\u001b[0;34m[\u001b[0m\u001b[0;36m0\u001b[0m\u001b[0;34m]\u001b[0m\u001b[0;34m\u001b[0m\u001b[0;34m\u001b[0m\u001b[0m\n\u001b[0m\u001b[1;32m    569\u001b[0m \u001b[0;34m\u001b[0m\u001b[0m\n\u001b[1;32m    570\u001b[0m     \u001b[0;32mdef\u001b[0m \u001b[0m__getstate__\u001b[0m\u001b[0;34m(\u001b[0m\u001b[0mself\u001b[0m\u001b[0;34m)\u001b[0m\u001b[0;34m:\u001b[0m\u001b[0;34m\u001b[0m\u001b[0;34m\u001b[0m\u001b[0m\n",
      "\u001b[0;32m/usr/local/lib/python3.6/dist-packages/joblib/memory.py\u001b[0m in \u001b[0;36m_cached_call\u001b[0;34m(self, args, kwargs, shelving)\u001b[0m\n\u001b[1;32m    514\u001b[0m                         \u001b[0;34m[\u001b[0m\u001b[0mfunc_id\u001b[0m\u001b[0;34m,\u001b[0m \u001b[0margs_id\u001b[0m\u001b[0;34m]\u001b[0m\u001b[0;34m,\u001b[0m\u001b[0;34m\u001b[0m\u001b[0;34m\u001b[0m\u001b[0m\n\u001b[1;32m    515\u001b[0m                         \u001b[0mmsg\u001b[0m\u001b[0;34m=\u001b[0m\u001b[0mmsg\u001b[0m\u001b[0;34m,\u001b[0m\u001b[0;34m\u001b[0m\u001b[0;34m\u001b[0m\u001b[0m\n\u001b[0;32m--> 516\u001b[0;31m                         verbose=self._verbose)\n\u001b[0m\u001b[1;32m    517\u001b[0m                 \u001b[0;32melse\u001b[0m\u001b[0;34m:\u001b[0m\u001b[0;34m\u001b[0m\u001b[0;34m\u001b[0m\u001b[0m\n\u001b[1;32m    518\u001b[0m                     \u001b[0mout\u001b[0m \u001b[0;34m=\u001b[0m \u001b[0;32mNone\u001b[0m\u001b[0;34m\u001b[0m\u001b[0;34m\u001b[0m\u001b[0m\n",
      "\u001b[0;32m/usr/local/lib/python3.6/dist-packages/joblib/_store_backends.py\u001b[0m in \u001b[0;36mload_item\u001b[0;34m(self, path, verbose, msg)\u001b[0m\n\u001b[1;32m    169\u001b[0m         \u001b[0;32mif\u001b[0m \u001b[0mmmap_mode\u001b[0m \u001b[0;32mis\u001b[0m \u001b[0;32mNone\u001b[0m\u001b[0;34m:\u001b[0m\u001b[0;34m\u001b[0m\u001b[0;34m\u001b[0m\u001b[0m\n\u001b[1;32m    170\u001b[0m             \u001b[0;32mwith\u001b[0m \u001b[0mself\u001b[0m\u001b[0;34m.\u001b[0m\u001b[0m_open_item\u001b[0m\u001b[0;34m(\u001b[0m\u001b[0mfilename\u001b[0m\u001b[0;34m,\u001b[0m \u001b[0;34m\"rb\"\u001b[0m\u001b[0;34m)\u001b[0m \u001b[0;32mas\u001b[0m \u001b[0mf\u001b[0m\u001b[0;34m:\u001b[0m\u001b[0;34m\u001b[0m\u001b[0;34m\u001b[0m\u001b[0m\n\u001b[0;32m--> 171\u001b[0;31m                 \u001b[0mitem\u001b[0m \u001b[0;34m=\u001b[0m \u001b[0mnumpy_pickle\u001b[0m\u001b[0;34m.\u001b[0m\u001b[0mload\u001b[0m\u001b[0;34m(\u001b[0m\u001b[0mf\u001b[0m\u001b[0;34m)\u001b[0m\u001b[0;34m\u001b[0m\u001b[0;34m\u001b[0m\u001b[0m\n\u001b[0m\u001b[1;32m    172\u001b[0m         \u001b[0;32melse\u001b[0m\u001b[0;34m:\u001b[0m\u001b[0;34m\u001b[0m\u001b[0;34m\u001b[0m\u001b[0m\n\u001b[1;32m    173\u001b[0m             \u001b[0mitem\u001b[0m \u001b[0;34m=\u001b[0m \u001b[0mnumpy_pickle\u001b[0m\u001b[0;34m.\u001b[0m\u001b[0mload\u001b[0m\u001b[0;34m(\u001b[0m\u001b[0mfilename\u001b[0m\u001b[0;34m,\u001b[0m \u001b[0mmmap_mode\u001b[0m\u001b[0;34m=\u001b[0m\u001b[0mmmap_mode\u001b[0m\u001b[0;34m)\u001b[0m\u001b[0;34m\u001b[0m\u001b[0;34m\u001b[0m\u001b[0m\n",
      "\u001b[0;32m/usr/local/lib/python3.6/dist-packages/joblib/numpy_pickle.py\u001b[0m in \u001b[0;36mload\u001b[0;34m(filename, mmap_mode)\u001b[0m\n\u001b[1;32m    593\u001b[0m         \u001b[0mfilename\u001b[0m \u001b[0;34m=\u001b[0m \u001b[0mgetattr\u001b[0m\u001b[0;34m(\u001b[0m\u001b[0mfobj\u001b[0m\u001b[0;34m,\u001b[0m \u001b[0;34m'name'\u001b[0m\u001b[0;34m,\u001b[0m \u001b[0;34m''\u001b[0m\u001b[0;34m)\u001b[0m\u001b[0;34m\u001b[0m\u001b[0;34m\u001b[0m\u001b[0m\n\u001b[1;32m    594\u001b[0m         \u001b[0;32mwith\u001b[0m \u001b[0m_read_fileobject\u001b[0m\u001b[0;34m(\u001b[0m\u001b[0mfobj\u001b[0m\u001b[0;34m,\u001b[0m \u001b[0mfilename\u001b[0m\u001b[0;34m,\u001b[0m \u001b[0mmmap_mode\u001b[0m\u001b[0;34m)\u001b[0m \u001b[0;32mas\u001b[0m \u001b[0mfobj\u001b[0m\u001b[0;34m:\u001b[0m\u001b[0;34m\u001b[0m\u001b[0;34m\u001b[0m\u001b[0m\n\u001b[0;32m--> 595\u001b[0;31m             \u001b[0mobj\u001b[0m \u001b[0;34m=\u001b[0m \u001b[0m_unpickle\u001b[0m\u001b[0;34m(\u001b[0m\u001b[0mfobj\u001b[0m\u001b[0;34m)\u001b[0m\u001b[0;34m\u001b[0m\u001b[0;34m\u001b[0m\u001b[0m\n\u001b[0m\u001b[1;32m    596\u001b[0m     \u001b[0;32melse\u001b[0m\u001b[0;34m:\u001b[0m\u001b[0;34m\u001b[0m\u001b[0;34m\u001b[0m\u001b[0m\n\u001b[1;32m    597\u001b[0m         \u001b[0;32mwith\u001b[0m \u001b[0mopen\u001b[0m\u001b[0;34m(\u001b[0m\u001b[0mfilename\u001b[0m\u001b[0;34m,\u001b[0m \u001b[0;34m'rb'\u001b[0m\u001b[0;34m)\u001b[0m \u001b[0;32mas\u001b[0m \u001b[0mf\u001b[0m\u001b[0;34m:\u001b[0m\u001b[0;34m\u001b[0m\u001b[0;34m\u001b[0m\u001b[0m\n",
      "\u001b[0;32m/usr/local/lib/python3.6/dist-packages/joblib/numpy_pickle.py\u001b[0m in \u001b[0;36m_unpickle\u001b[0;34m(fobj, filename, mmap_mode)\u001b[0m\n\u001b[1;32m    527\u001b[0m     \u001b[0mobj\u001b[0m \u001b[0;34m=\u001b[0m \u001b[0;32mNone\u001b[0m\u001b[0;34m\u001b[0m\u001b[0;34m\u001b[0m\u001b[0m\n\u001b[1;32m    528\u001b[0m     \u001b[0;32mtry\u001b[0m\u001b[0;34m:\u001b[0m\u001b[0;34m\u001b[0m\u001b[0;34m\u001b[0m\u001b[0m\n\u001b[0;32m--> 529\u001b[0;31m         \u001b[0mobj\u001b[0m \u001b[0;34m=\u001b[0m \u001b[0munpickler\u001b[0m\u001b[0;34m.\u001b[0m\u001b[0mload\u001b[0m\u001b[0;34m(\u001b[0m\u001b[0;34m)\u001b[0m\u001b[0;34m\u001b[0m\u001b[0;34m\u001b[0m\u001b[0m\n\u001b[0m\u001b[1;32m    530\u001b[0m         \u001b[0;32mif\u001b[0m \u001b[0munpickler\u001b[0m\u001b[0;34m.\u001b[0m\u001b[0mcompat_mode\u001b[0m\u001b[0;34m:\u001b[0m\u001b[0;34m\u001b[0m\u001b[0;34m\u001b[0m\u001b[0m\n\u001b[1;32m    531\u001b[0m             warnings.warn(\"The file '%s' has been generated with a \"\n",
      "\u001b[0;32m/usr/lib/python3.6/pickle.py\u001b[0m in \u001b[0;36mload\u001b[0;34m(self)\u001b[0m\n\u001b[1;32m   1048\u001b[0m                     \u001b[0;32mraise\u001b[0m \u001b[0mEOFError\u001b[0m\u001b[0;34m\u001b[0m\u001b[0;34m\u001b[0m\u001b[0m\n\u001b[1;32m   1049\u001b[0m                 \u001b[0;32massert\u001b[0m \u001b[0misinstance\u001b[0m\u001b[0;34m(\u001b[0m\u001b[0mkey\u001b[0m\u001b[0;34m,\u001b[0m \u001b[0mbytes_types\u001b[0m\u001b[0;34m)\u001b[0m\u001b[0;34m\u001b[0m\u001b[0;34m\u001b[0m\u001b[0m\n\u001b[0;32m-> 1050\u001b[0;31m                 \u001b[0mdispatch\u001b[0m\u001b[0;34m[\u001b[0m\u001b[0mkey\u001b[0m\u001b[0;34m[\u001b[0m\u001b[0;36m0\u001b[0m\u001b[0;34m]\u001b[0m\u001b[0;34m]\u001b[0m\u001b[0;34m(\u001b[0m\u001b[0mself\u001b[0m\u001b[0;34m)\u001b[0m\u001b[0;34m\u001b[0m\u001b[0;34m\u001b[0m\u001b[0m\n\u001b[0m\u001b[1;32m   1051\u001b[0m         \u001b[0;32mexcept\u001b[0m \u001b[0m_Stop\u001b[0m \u001b[0;32mas\u001b[0m \u001b[0mstopinst\u001b[0m\u001b[0;34m:\u001b[0m\u001b[0;34m\u001b[0m\u001b[0;34m\u001b[0m\u001b[0m\n\u001b[1;32m   1052\u001b[0m             \u001b[0;32mreturn\u001b[0m \u001b[0mstopinst\u001b[0m\u001b[0;34m.\u001b[0m\u001b[0mvalue\u001b[0m\u001b[0;34m\u001b[0m\u001b[0;34m\u001b[0m\u001b[0m\n",
      "\u001b[0;32m/usr/local/lib/python3.6/dist-packages/joblib/numpy_pickle.py\u001b[0m in \u001b[0;36mload_build\u001b[0;34m(self)\u001b[0m\n\u001b[1;32m    353\u001b[0m             \u001b[0;32mif\u001b[0m \u001b[0misinstance\u001b[0m\u001b[0;34m(\u001b[0m\u001b[0marray_wrapper\u001b[0m\u001b[0;34m,\u001b[0m \u001b[0mNDArrayWrapper\u001b[0m\u001b[0;34m)\u001b[0m\u001b[0;34m:\u001b[0m\u001b[0;34m\u001b[0m\u001b[0;34m\u001b[0m\u001b[0m\n\u001b[1;32m    354\u001b[0m                 \u001b[0mself\u001b[0m\u001b[0;34m.\u001b[0m\u001b[0mcompat_mode\u001b[0m \u001b[0;34m=\u001b[0m \u001b[0;32mTrue\u001b[0m\u001b[0;34m\u001b[0m\u001b[0;34m\u001b[0m\u001b[0m\n\u001b[0;32m--> 355\u001b[0;31m             \u001b[0mself\u001b[0m\u001b[0;34m.\u001b[0m\u001b[0mstack\u001b[0m\u001b[0;34m.\u001b[0m\u001b[0mappend\u001b[0m\u001b[0;34m(\u001b[0m\u001b[0marray_wrapper\u001b[0m\u001b[0;34m.\u001b[0m\u001b[0mread\u001b[0m\u001b[0;34m(\u001b[0m\u001b[0mself\u001b[0m\u001b[0;34m)\u001b[0m\u001b[0;34m)\u001b[0m\u001b[0;34m\u001b[0m\u001b[0;34m\u001b[0m\u001b[0m\n\u001b[0m\u001b[1;32m    356\u001b[0m \u001b[0;34m\u001b[0m\u001b[0m\n\u001b[1;32m    357\u001b[0m     \u001b[0;31m# Be careful to register our new method.\u001b[0m\u001b[0;34m\u001b[0m\u001b[0;34m\u001b[0m\u001b[0;34m\u001b[0m\u001b[0m\n",
      "\u001b[0;32m/usr/local/lib/python3.6/dist-packages/joblib/numpy_pickle.py\u001b[0m in \u001b[0;36mread\u001b[0;34m(self, unpickler)\u001b[0m\n\u001b[1;32m    196\u001b[0m             \u001b[0marray\u001b[0m \u001b[0;34m=\u001b[0m \u001b[0mself\u001b[0m\u001b[0;34m.\u001b[0m\u001b[0mread_mmap\u001b[0m\u001b[0;34m(\u001b[0m\u001b[0munpickler\u001b[0m\u001b[0;34m)\u001b[0m\u001b[0;34m\u001b[0m\u001b[0;34m\u001b[0m\u001b[0m\n\u001b[1;32m    197\u001b[0m         \u001b[0;32melse\u001b[0m\u001b[0;34m:\u001b[0m\u001b[0;34m\u001b[0m\u001b[0;34m\u001b[0m\u001b[0m\n\u001b[0;32m--> 198\u001b[0;31m             \u001b[0marray\u001b[0m \u001b[0;34m=\u001b[0m \u001b[0mself\u001b[0m\u001b[0;34m.\u001b[0m\u001b[0mread_array\u001b[0m\u001b[0;34m(\u001b[0m\u001b[0munpickler\u001b[0m\u001b[0;34m)\u001b[0m\u001b[0;34m\u001b[0m\u001b[0;34m\u001b[0m\u001b[0m\n\u001b[0m\u001b[1;32m    199\u001b[0m \u001b[0;34m\u001b[0m\u001b[0m\n\u001b[1;32m    200\u001b[0m         \u001b[0;31m# Manage array subclass case\u001b[0m\u001b[0;34m\u001b[0m\u001b[0;34m\u001b[0m\u001b[0;34m\u001b[0m\u001b[0m\n",
      "\u001b[0;32m/usr/local/lib/python3.6/dist-packages/joblib/numpy_pickle.py\u001b[0m in \u001b[0;36mread_array\u001b[0;34m(self, unpickler)\u001b[0m\n\u001b[1;32m    147\u001b[0m                     \u001b[0mread_size\u001b[0m \u001b[0;34m=\u001b[0m \u001b[0mint\u001b[0m\u001b[0;34m(\u001b[0m\u001b[0mread_count\u001b[0m \u001b[0;34m*\u001b[0m \u001b[0mself\u001b[0m\u001b[0;34m.\u001b[0m\u001b[0mdtype\u001b[0m\u001b[0;34m.\u001b[0m\u001b[0mitemsize\u001b[0m\u001b[0;34m)\u001b[0m\u001b[0;34m\u001b[0m\u001b[0;34m\u001b[0m\u001b[0m\n\u001b[1;32m    148\u001b[0m                     data = _read_bytes(unpickler.file_handle,\n\u001b[0;32m--> 149\u001b[0;31m                                        read_size, \"array data\")\n\u001b[0m\u001b[1;32m    150\u001b[0m                     \u001b[0marray\u001b[0m\u001b[0;34m[\u001b[0m\u001b[0mi\u001b[0m\u001b[0;34m:\u001b[0m\u001b[0mi\u001b[0m \u001b[0;34m+\u001b[0m \u001b[0mread_count\u001b[0m\u001b[0;34m]\u001b[0m \u001b[0;34m=\u001b[0m\u001b[0;31m \u001b[0m\u001b[0;31m\\\u001b[0m\u001b[0;34m\u001b[0m\u001b[0;34m\u001b[0m\u001b[0m\n\u001b[1;32m    151\u001b[0m                         unpickler.np.frombuffer(data, dtype=self.dtype,\n",
      "\u001b[0;32m/usr/local/lib/python3.6/dist-packages/joblib/numpy_pickle_utils.py\u001b[0m in \u001b[0;36m_read_bytes\u001b[0;34m(fp, size, error_template)\u001b[0m\n\u001b[1;32m    233\u001b[0m         \u001b[0;31m# done about that.  note that regular files can't be non-blocking\u001b[0m\u001b[0;34m\u001b[0m\u001b[0;34m\u001b[0m\u001b[0;34m\u001b[0m\u001b[0m\n\u001b[1;32m    234\u001b[0m         \u001b[0;32mtry\u001b[0m\u001b[0;34m:\u001b[0m\u001b[0;34m\u001b[0m\u001b[0;34m\u001b[0m\u001b[0m\n\u001b[0;32m--> 235\u001b[0;31m             \u001b[0mr\u001b[0m \u001b[0;34m=\u001b[0m \u001b[0mfp\u001b[0m\u001b[0;34m.\u001b[0m\u001b[0mread\u001b[0m\u001b[0;34m(\u001b[0m\u001b[0msize\u001b[0m \u001b[0;34m-\u001b[0m \u001b[0mlen\u001b[0m\u001b[0;34m(\u001b[0m\u001b[0mdata\u001b[0m\u001b[0;34m)\u001b[0m\u001b[0;34m)\u001b[0m\u001b[0;34m\u001b[0m\u001b[0;34m\u001b[0m\u001b[0m\n\u001b[0m\u001b[1;32m    236\u001b[0m             \u001b[0mdata\u001b[0m \u001b[0;34m+=\u001b[0m \u001b[0mr\u001b[0m\u001b[0;34m\u001b[0m\u001b[0;34m\u001b[0m\u001b[0m\n\u001b[1;32m    237\u001b[0m             \u001b[0;32mif\u001b[0m \u001b[0mlen\u001b[0m\u001b[0;34m(\u001b[0m\u001b[0mr\u001b[0m\u001b[0;34m)\u001b[0m \u001b[0;34m==\u001b[0m \u001b[0;36m0\u001b[0m \u001b[0;32mor\u001b[0m \u001b[0mlen\u001b[0m\u001b[0;34m(\u001b[0m\u001b[0mdata\u001b[0m\u001b[0;34m)\u001b[0m \u001b[0;34m==\u001b[0m \u001b[0msize\u001b[0m\u001b[0;34m:\u001b[0m\u001b[0;34m\u001b[0m\u001b[0;34m\u001b[0m\u001b[0m\n",
      "\u001b[0;31mKeyboardInterrupt\u001b[0m: "
     ]
    }
   ],
   "source": [
    "data_names = get_data_names()\n",
    "# data_names = ['email-Enron', 'contact-high-school']\n",
    "split_modes = ['structural', 'temporal']\n",
    "train_dfs = {}\n",
    "test_dfs = {}\n",
    "overfit_dfs = {}\n",
    "iterator = list(product(data_names, split_modes))\n",
    "for d, s in tqdm_notebook(iterator):\n",
    "    train_df, test_df, overfit_df = read_macro_feat_results(d, s)\n",
    "    train_dfs[(d, s)] = train_df\n",
    "    test_dfs[(d, s)] = test_df\n",
    "    overfit_dfs[(d, s)] = overfit_df"
   ]
  },
  {
   "cell_type": "code",
   "execution_count": null,
   "metadata": {},
   "outputs": [],
   "source": [
    "metric = 'auc'\n",
    "rows = []\n",
    "train_df_list = []\n",
    "for s, d in product(split_modes, data_names):\n",
    "    row = train_dfs[(d, s)].loc[metric, :]\n",
    "    row.name = get_data_split_name(d, s, 'abbr')\n",
    "    rows.append(row)\n",
    "    df1 = pd.DataFrame(row).T\n",
    "    train_df_list.append(df1)\n",
    "    \n",
    "rows = []\n",
    "test_df_list = []\n",
    "for s, d in product(split_modes, data_names):\n",
    "    row = test_dfs[(d, s)].loc[metric, :]\n",
    "    row.name = get_data_split_name(d, s, 'abbr')\n",
    "    rows.append(row)\n",
    "    df1 = pd.DataFrame(row).T\n",
    "    test_df_list.append(df1)\n",
    "\n",
    "    \n",
    "rows = []\n",
    "overfit_df_list = []\n",
    "for s, d in product(split_modes, data_names):\n",
    "    row = overfit_dfs[(d, s)].loc[metric, :]\n",
    "    row.name = get_data_split_name(d, s, 'abbr')\n",
    "    rows.append(row)\n",
    "    df1 = pd.DataFrame(row).T\n",
    "    overfit_df_list.append(df1)\n",
    "\n",
    "final_train_df = pd.concat(train_df_list)\n",
    "final_test_df = pd.concat(test_df_list)\n",
    "final_overfit_df = pd.concat(overfit_df_list)\n",
    "\n",
    "# print(tabulate(final_train_df, headers='keys', tablefmt='psql'))\n",
    "# print(tabulate(final_train_df.rank(axis=1, ascending=False), headers='keys', tablefmt='psql'))\n",
    "print(tabulate(final_test_df.rank(axis=1, ascending=False), headers='keys', tablefmt='psql'))\n",
    "print(get_latex_table(final_test_df, bold_best = 'per_row', col_mode='tt'))"
   ]
  },
  {
   "cell_type": "markdown",
   "metadata": {},
   "source": [
    "## (iv) All data, micro classifiers, rank-freq scores: 12 x 5\n",
    "micro_feat_rank_perf_auc.tex"
   ]
  },
  {
   "cell_type": "code",
   "execution_count": null,
   "metadata": {},
   "outputs": [],
   "source": [
    "results_preparer.ipynb"
   ]
  },
  {
   "cell_type": "markdown",
   "metadata": {},
   "source": [
    "## (v) 1 data, micro classifiers, AUC scores: 10 x 10\n",
    "micro_feat_perf_auc_{data_name}.tex"
   ]
  },
  {
   "cell_type": "markdown",
   "metadata": {},
   "source": [
    "## (vi) All data, standalone, rank-freq scores: 12 x 6\n",
    "standalone_rank_perf_auc.tex"
   ]
  },
  {
   "cell_type": "code",
   "execution_count": 14,
   "metadata": {},
   "outputs": [],
   "source": [
    "def read_standalone_results(data_name, split_mode, metric):\n",
    "    params = get_default_params()\n",
    "    params['data_params']['data_name'] = data_name\n",
    "    params['data_params']['split_mode'] = split_mode\n",
    "    params['data_params']['base_path'] = '/home2/e1-313-15477'\n",
    "    dfs = []\n",
    "    for i in range(5):\n",
    "        params['iter_var'] = i\n",
    "        _, lp_results = perform_link_prediction(params['data_params'],\n",
    "            params['lp_data_params'],\n",
    "            params['lp_params'],\n",
    "            params['iter_var'])\n",
    "        dfs.append(lp_results['perf'])\n",
    "    df = to_mean_std(dfs)\n",
    "\n",
    "    GWH_cols = ['stand-G', 'stand-W', 'stand-H\\\\textsubscript{max}', 'stand-H\\\\textsubscript{avg}', 'stand-H\\\\textsubscript{L1}', 'stand-H\\\\textsubscript{L2}']\n",
    "    rows = []\n",
    "    df_list = []\n",
    "    for c in default_lp_cols:\n",
    "        cols = [c, 'w_' + c] + mcm[c][1:]\n",
    "        row = df.loc[metric, cols]\n",
    "        row.name = c\n",
    "        rows.append(row)\n",
    "        df1 = pd.DataFrame(row).T\n",
    "        df1 = df1.rename(columns=dict(zip(df1.columns, GWH_cols)))\n",
    "        df_list.append(df1)\n",
    "    return pd.concat(df_list)"
   ]
  },
  {
   "cell_type": "code",
   "execution_count": 32,
   "metadata": {},
   "outputs": [
    {
     "data": {
      "application/vnd.jupyter.widget-view+json": {
       "model_id": "b8ffd9171d3042cb9aea631cbd377cef",
       "version_major": 2,
       "version_minor": 0
      },
      "text/plain": [
       "HBox(children=(IntProgress(value=0, max=8), HTML(value='')))"
      ]
     },
     "metadata": {},
     "output_type": "display_data"
    },
    {
     "name": "stderr",
     "output_type": "stream",
     "text": [
      "/home/govinds/.local/lib/python3.6/site-packages/ipykernel_launcher.py:3: FutureWarning: Sorting because non-concatenation axis is not aligned. A future version\n",
      "of pandas will change to not sort by default.\n",
      "\n",
      "To accept the future behavior, pass 'sort=False'.\n",
      "\n",
      "To retain the current behavior and silence the warning, pass 'sort=True'.\n",
      "\n",
      "  This is separate from the ipykernel package so we can avoid doing imports until\n"
     ]
    },
    {
     "name": "stdout",
     "output_type": "stream",
     "text": [
      "\n"
     ]
    }
   ],
   "source": [
    "# data_names = get_data_names()\n",
    "data_names = ['email-Enron', 'contact-high-school', 'tags-math-sx', 'threads-math-sx']\n",
    "split_modes = ['structural', 'temporal']\n",
    "dfs = []\n",
    "iterator = list(product(split_modes, data_names))\n",
    "for s, d in tqdm_notebook(iterator):\n",
    "    df = read_standalone_results(d, s, 'auc')\n",
    "    df = df.rank(axis=1, ascending=False)\n",
    "#     print(to_mean_std([rank_df.loc[i, :] for i in rank_df.index]))\n",
    "    df = to_mean_std([df.loc[i, :] for i in df.index]).loc[df.columns, :].rename(columns={0: get_data_split_name(d, s, mode='abbr')}).T\n",
    "    dfs.append(df)\n",
    "table_df = pd.concat(dfs)"
   ]
  },
  {
   "cell_type": "code",
   "execution_count": 35,
   "metadata": {},
   "outputs": [
    {
     "name": "stdout",
     "output_type": "stream",
     "text": [
      "+-------------+-----------+-----------+------------------------------+------------------------------+-----------------------------+-----------------------------+\n",
      "|             |   stand-G |   stand-W |   stand-H\\textsubscript{max} |   stand-H\\textsubscript{avg} |   stand-H\\textsubscript{L1} |   stand-H\\textsubscript{L2} |\n",
      "|-------------+-----------+-----------+------------------------------+------------------------------+-----------------------------+-----------------------------|\n",
      "| mail (s)    |         1 |         4 |                            2 |                            3 |                           6 |                           5 |\n",
      "| contact (s) |         1 |         4 |                            6 |                            5 |                           3 |                           2 |\n",
      "| tag (s)     |         4 |         5 |                            3 |                            6 |                           2 |                           1 |\n",
      "| thread (s)  |         5 |         4 |                            3 |                            6 |                           2 |                           1 |\n",
      "| mail (t)    |         3 |         1 |                            4 |                            2 |                           6 |                           5 |\n",
      "| contact (t) |         1 |         3 |                            6 |                            2 |                           5 |                           4 |\n",
      "| tag (t)     |         4 |         5 |                            3 |                            6 |                           1 |                           2 |\n",
      "| thread (t)  |         5 |         4 |                            3 |                            6 |                           1 |                           2 |\n",
      "+-------------+-----------+-----------+------------------------------+------------------------------+-----------------------------+-----------------------------+\n",
      "\\begin{tabular}{lcccccc}\n",
      "\\toprule\n",
      "{} & \\texttt{stand-G} & \\texttt{stand-W} & \\texttt{stand-H\\textsubscript{max}} & \\texttt{stand-H\\textsubscript{avg}} & \\texttt{stand-H\\textsubscript{L1}} & \\texttt{stand-H\\textsubscript{L2}} \\\\\n",
      "\\midrule\n",
      "mail (s)    &    1.3 $\\pm$ 0.6 &    3.8 $\\pm$ 1.0 &                       3.0 $\\pm$ 1.5 &                       3.2 $\\pm$ 1.3 &             \\textbf{5.4 $\\pm$ 1.3} &                      4.3 $\\pm$ 1.0 \\\\\n",
      "contact (s) &    1.8 $\\pm$ 1.2 &    3.2 $\\pm$ 1.3 &              \\textbf{6.0 $\\pm$ 0.0} &                       4.5 $\\pm$ 0.8 &                      3.2 $\\pm$ 0.9 &                      2.2 $\\pm$ 1.0 \\\\\n",
      "tag (s)     &    4.0 $\\pm$ 1.1 &    4.3 $\\pm$ 1.6 &                       3.4 $\\pm$ 0.8 &              \\textbf{5.7 $\\pm$ 0.6} &                      2.2 $\\pm$ 0.6 &                      1.4 $\\pm$ 0.7 \\\\\n",
      "thread (s)  &    4.1 $\\pm$ 1.3 &    3.8 $\\pm$ 0.9 &                       3.0 $\\pm$ 1.1 &              \\textbf{5.8 $\\pm$ 0.6} &                      2.2 $\\pm$ 1.0 &                      2.2 $\\pm$ 0.7 \\\\\n",
      "mail (t)    &    2.9 $\\pm$ 0.7 &    1.6 $\\pm$ 1.2 &                       3.8 $\\pm$ 1.2 &                       2.1 $\\pm$ 0.7 &             \\textbf{5.8 $\\pm$ 0.4} &                      4.8 $\\pm$ 0.4 \\\\\n",
      "contact (t) &    2.0 $\\pm$ 0.9 &    2.7 $\\pm$ 1.3 &              \\textbf{5.9 $\\pm$ 0.3} &                       2.2 $\\pm$ 1.5 &                      4.4 $\\pm$ 0.8 &                      3.6 $\\pm$ 0.8 \\\\\n",
      "tag (t)     &    4.0 $\\pm$ 0.9 &    4.0 $\\pm$ 1.6 &                       3.6 $\\pm$ 0.9 &              \\textbf{5.8 $\\pm$ 0.6} &                      1.8 $\\pm$ 0.5 &                      1.8 $\\pm$ 0.7 \\\\\n",
      "thread (t)  &    4.1 $\\pm$ 1.3 &    3.6 $\\pm$ 1.1 &                       3.6 $\\pm$ 0.9 &              \\textbf{5.8 $\\pm$ 0.6} &                      1.6 $\\pm$ 0.8 &                      2.2 $\\pm$ 0.6 \\\\\n",
      "\\bottomrule\n",
      "\\end{tabular}\n",
      "\n"
     ]
    }
   ],
   "source": [
    "print(tabulate(table_df.rank(axis=1, ascending=True), headers='keys', tablefmt='psql'))\n",
    "print(get_latex_table(table_df, bold_best = 'per_row', col_mode='tt', ascending=True))"
   ]
  },
  {
   "cell_type": "markdown",
   "metadata": {},
   "source": [
    "## (vii) 1 data, standalone, AUC scores: 10 x 12\n",
    "standalone_perf_auc_{data_name}.tex"
   ]
  },
  {
   "cell_type": "code",
   "execution_count": 39,
   "metadata": {},
   "outputs": [
    {
     "name": "stderr",
     "output_type": "stream",
     "text": [
      "/home/govinds/.local/lib/python3.6/site-packages/ipykernel_launcher.py:3: FutureWarning: Sorting because non-concatenation axis is not aligned. A future version\n",
      "of pandas will change to not sort by default.\n",
      "\n",
      "To accept the future behavior, pass 'sort=False'.\n",
      "\n",
      "To retain the current behavior and silence the warning, pass 'sort=True'.\n",
      "\n",
      "  This is separate from the ipykernel package so we can avoid doing imports until\n"
     ]
    },
    {
     "name": "stdout",
     "output_type": "stream",
     "text": [
      "\\begin{tabular}{lcccccc}\n",
      "\\toprule\n",
      "{} &         \\texttt{stand-G} &         \\texttt{stand-W} & \\texttt{stand-H\\textsubscript{max}} & \\texttt{stand-H\\textsubscript{avg}} & \\texttt{stand-H\\textsubscript{L1}} & \\texttt{stand-H\\textsubscript{L2}} \\\\\n",
      "\\midrule\n",
      "AA (s)  &  \\textbf{89.3 $\\pm$ 0.1} &  \\textbf{89.3 $\\pm$ 0.1} &             \\textbf{89.3 $\\pm$ 0.1} &                      87.5 $\\pm$ 0.1 &                     89.2 $\\pm$ 0.1 &            \\textbf{89.3 $\\pm$ 0.1} \\\\\n",
      "AS (s)  &           87.3 $\\pm$ 0.1 &           87.3 $\\pm$ 0.1 &                      89.0 $\\pm$ 0.1 &                      87.5 $\\pm$ 0.1 &            \\textbf{89.2 $\\pm$ 0.1} &            \\textbf{89.2 $\\pm$ 0.1} \\\\\n",
      "CN (s)  &  \\textbf{89.1 $\\pm$ 0.1} &  \\textbf{89.1 $\\pm$ 0.1} &                      88.6 $\\pm$ 0.1 &                      87.5 $\\pm$ 0.1 &            \\textbf{89.1 $\\pm$ 0.1} &            \\textbf{89.1 $\\pm$ 0.1} \\\\\n",
      "Cos (s) &           87.9 $\\pm$ 0.1 &           88.1 $\\pm$ 0.1 &             \\textbf{89.2 $\\pm$ 0.1} &                      87.5 $\\pm$ 0.1 &            \\textbf{89.2 $\\pm$ 0.1} &            \\textbf{89.2 $\\pm$ 0.1} \\\\\n",
      "PA (s)  &  \\textbf{90.2 $\\pm$ 0.1} &           90.1 $\\pm$ 0.1 &                      86.8 $\\pm$ 0.1 &                      71.9 $\\pm$ 0.3 &            \\textbf{90.2 $\\pm$ 0.1} &                     90.0 $\\pm$ 0.1 \\\\\n",
      "JC (s)  &           87.9 $\\pm$ 0.1 &           88.0 $\\pm$ 0.1 &             \\textbf{89.2 $\\pm$ 0.1} &                      87.5 $\\pm$ 0.1 &            \\textbf{89.2 $\\pm$ 0.1} &            \\textbf{89.2 $\\pm$ 0.1} \\\\\n",
      "MxO (s) &           87.9 $\\pm$ 0.1 &           87.9 $\\pm$ 0.1 &                      89.1 $\\pm$ 0.1 &                      87.5 $\\pm$ 0.1 &            \\textbf{89.2 $\\pm$ 0.1} &            \\textbf{89.2 $\\pm$ 0.1} \\\\\n",
      "MnO (s) &           88.1 $\\pm$ 0.1 &           88.4 $\\pm$ 0.1 &                      88.8 $\\pm$ 0.1 &                      87.5 $\\pm$ 0.1 &            \\textbf{89.1 $\\pm$ 0.1} &            \\textbf{89.1 $\\pm$ 0.1} \\\\\n",
      "NM (s)  &           87.9 $\\pm$ 0.1 &           87.9 $\\pm$ 0.1 &             \\textbf{89.2 $\\pm$ 0.1} &                      87.5 $\\pm$ 0.1 &            \\textbf{89.2 $\\pm$ 0.1} &            \\textbf{89.2 $\\pm$ 0.1} \\\\\n",
      "Prn (s) &           87.9 $\\pm$ 0.1 &           88.1 $\\pm$ 0.1 &             \\textbf{89.2 $\\pm$ 0.1} &                      87.5 $\\pm$ 0.1 &            \\textbf{89.2 $\\pm$ 0.1} &            \\textbf{89.2 $\\pm$ 0.1} \\\\\n",
      "AA (t)  &  \\textbf{69.3 $\\pm$ 0.0} &  \\textbf{69.3 $\\pm$ 0.0} &                      69.2 $\\pm$ 0.0 &                      68.6 $\\pm$ 0.0 &            \\textbf{69.3 $\\pm$ 0.0} &            \\textbf{69.3 $\\pm$ 0.0} \\\\\n",
      "AS (t)  &           68.5 $\\pm$ 0.0 &           68.5 $\\pm$ 0.0 &                      69.0 $\\pm$ 0.0 &                      68.6 $\\pm$ 0.0 &            \\textbf{69.2 $\\pm$ 0.0} &            \\textbf{69.2 $\\pm$ 0.0} \\\\\n",
      "CN (t)  &  \\textbf{69.3 $\\pm$ 0.0} &  \\textbf{69.3 $\\pm$ 0.0} &                      69.0 $\\pm$ 0.0 &                      68.6 $\\pm$ 0.0 &            \\textbf{69.3 $\\pm$ 0.0} &            \\textbf{69.3 $\\pm$ 0.0} \\\\\n",
      "Cos (t) &           68.7 $\\pm$ 0.0 &           68.9 $\\pm$ 0.0 &                      69.0 $\\pm$ 0.0 &                      68.6 $\\pm$ 0.0 &            \\textbf{69.3 $\\pm$ 0.0} &                     69.2 $\\pm$ 0.0 \\\\\n",
      "PA (t)  &  \\textbf{65.7 $\\pm$ 0.0} &  \\textbf{65.7 $\\pm$ 0.0} &                      60.2 $\\pm$ 0.0 &                      54.6 $\\pm$ 0.0 &                     61.6 $\\pm$ 0.0 &                     61.5 $\\pm$ 0.0 \\\\\n",
      "JC (t)  &           68.7 $\\pm$ 0.0 &           68.8 $\\pm$ 0.0 &                      69.0 $\\pm$ 0.0 &                      68.6 $\\pm$ 0.0 &            \\textbf{69.3 $\\pm$ 0.0} &                     69.2 $\\pm$ 0.0 \\\\\n",
      "MxO (t) &           68.8 $\\pm$ 0.0 &           68.8 $\\pm$ 0.0 &                      69.1 $\\pm$ 0.0 &                      68.6 $\\pm$ 0.0 &            \\textbf{69.3 $\\pm$ 0.0} &                     69.2 $\\pm$ 0.0 \\\\\n",
      "MnO (t) &           68.8 $\\pm$ 0.0 &           69.0 $\\pm$ 0.0 &                      69.0 $\\pm$ 0.0 &                      68.6 $\\pm$ 0.0 &            \\textbf{69.3 $\\pm$ 0.0} &                     69.2 $\\pm$ 0.0 \\\\\n",
      "NM (t)  &           68.8 $\\pm$ 0.0 &           68.8 $\\pm$ 0.0 &                      69.1 $\\pm$ 0.0 &                      68.6 $\\pm$ 0.0 &            \\textbf{69.3 $\\pm$ 0.0} &                     69.2 $\\pm$ 0.0 \\\\\n",
      "Prn (t) &           68.7 $\\pm$ 0.0 &           68.9 $\\pm$ 0.0 &                      69.0 $\\pm$ 0.0 &                      68.6 $\\pm$ 0.0 &            \\textbf{69.3 $\\pm$ 0.0} &                     69.2 $\\pm$ 0.0 \\\\\n",
      "\\bottomrule\n",
      "\\end{tabular}\n",
      "\n"
     ]
    }
   ],
   "source": [
    "data_name = 'threads-math-sx'\n",
    "df1 = read_standalone_results(data_name, 'structural', 'auc')\n",
    "df2 = read_standalone_results(data_name, 'temporal', 'auc')\n",
    "df = pd.concat([df1.rename(index={c: '{} ({})'.format(c, 's') for c in df1.index}),\n",
    "           df2.rename(index={c: '{} ({})'.format(c, 't') for c in df2.index})])\n",
    "print(get_latex_table(df, bold_best = 'per_row', col_mode='tt'))"
   ]
  },
  {
   "cell_type": "markdown",
   "metadata": {},
   "source": [
    "## (viii) All data, all metrics, best performing (performance): 12 x 4\n",
    "metric_best_performing.tex"
   ]
  }
 ],
 "metadata": {
  "kernelspec": {
   "display_name": "Python 3",
   "language": "python",
   "name": "python3"
  },
  "language_info": {
   "codemirror_mode": {
    "name": "ipython",
    "version": 3
   },
   "file_extension": ".py",
   "mimetype": "text/x-python",
   "name": "python",
   "nbconvert_exporter": "python",
   "pygments_lexer": "ipython3",
   "version": "3.6.8"
  }
 },
 "nbformat": 4,
 "nbformat_minor": 2
}
